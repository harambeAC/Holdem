{
 "cells": [
  {
   "cell_type": "code",
   "execution_count": 10,
   "metadata": {},
   "outputs": [
    {
     "data": {
      "text/plain": [
       "[2, 3, 4, 5, 6, 7, 8, 9, 10, 11, 12, 13, 14]"
      ]
     },
     "execution_count": 10,
     "metadata": {},
     "output_type": "execute_result"
    }
   ],
   "source": [
    "suits=[\"D\",\"S\",\"H\",\"C\"]\n",
    "cards=[i for i in range(2,15)]\n",
    "# J=11, Q=12, K=13, A=14\n",
    "cards"
   ]
  },
  {
   "cell_type": "code",
   "execution_count": 11,
   "metadata": {},
   "outputs": [
    {
     "data": {
      "text/plain": [
       "['2 D',\n",
       " '2 S',\n",
       " '2 H',\n",
       " '2 C',\n",
       " '3 D',\n",
       " '3 S',\n",
       " '3 H',\n",
       " '3 C',\n",
       " '4 D',\n",
       " '4 S',\n",
       " '4 H',\n",
       " '4 C',\n",
       " '5 D',\n",
       " '5 S',\n",
       " '5 H',\n",
       " '5 C',\n",
       " '6 D',\n",
       " '6 S',\n",
       " '6 H',\n",
       " '6 C',\n",
       " '7 D',\n",
       " '7 S',\n",
       " '7 H',\n",
       " '7 C',\n",
       " '8 D',\n",
       " '8 S',\n",
       " '8 H',\n",
       " '8 C',\n",
       " '9 D',\n",
       " '9 S',\n",
       " '9 H',\n",
       " '9 C',\n",
       " '10 D',\n",
       " '10 S',\n",
       " '10 H',\n",
       " '10 C',\n",
       " '11 D',\n",
       " '11 S',\n",
       " '11 H',\n",
       " '11 C',\n",
       " '12 D',\n",
       " '12 S',\n",
       " '12 H',\n",
       " '12 C',\n",
       " '13 D',\n",
       " '13 S',\n",
       " '13 H',\n",
       " '13 C',\n",
       " '14 D',\n",
       " '14 S',\n",
       " '14 H',\n",
       " '14 C']"
      ]
     },
     "execution_count": 11,
     "metadata": {},
     "output_type": "execute_result"
    }
   ],
   "source": [
    "deck = []\n",
    "for card in cards:\n",
    "    for suit in suits:\n",
    "        deck.append(str(card) + \" \" + suit)\n",
    "deck"
   ]
  },
  {
   "cell_type": "code",
   "execution_count": 12,
   "metadata": {},
   "outputs": [
    {
     "data": {
      "text/plain": [
       "1326"
      ]
     },
     "execution_count": 12,
     "metadata": {},
     "output_type": "execute_result"
    }
   ],
   "source": [
    "allhands = set([])\n",
    "for c1 in deck:\n",
    "    for c2 in deck:\n",
    "        if c1 != c2 and (c2,c1) not in allhands:\n",
    "            allhands.add((c1,c2))\n",
    "            \n",
    "len(allhands)"
   ]
  },
  {
   "cell_type": "code",
   "execution_count": 13,
   "metadata": {},
   "outputs": [],
   "source": [
    "allhands = list(allhands)"
   ]
  },
  {
   "cell_type": "code",
   "execution_count": 66,
   "metadata": {},
   "outputs": [],
   "source": [
    "\"\"\"\n",
    "Calculates the chen formula for a hand\n",
    "\"\"\"\n",
    "def chen_formula(hand):\n",
    "    card1 = hand[0].split() \n",
    "    card2 = hand[1].split()\n",
    "    card1_val = int(card1[0])\n",
    "    card1_suit = card1[1]\n",
    "    \n",
    "    card2_val = int(card2[0])\n",
    "    card2_suit = card2[1]\n",
    "    \n",
    "    total_val = 0\n",
    "    \n",
    "    # highest card\n",
    "    adjusted_card1_val = adjusted_value(card1_val)\n",
    "    adjusted_card2_val = adjusted_value(card2_val)\n",
    "    \n",
    "    # pairs\n",
    "    if(adjusted_card1_val == adjusted_card2_val):\n",
    "        total_val = 2*adjusted_card1_val\n",
    "    # high card\n",
    "    else:\n",
    "        total_val = max(adjusted_card1_val, adjusted_card2_val)\n",
    "        \n",
    "    # suited\n",
    "    if(card1_suit == card2_suit):\n",
    "        total_val += 2\n",
    "        \n",
    "    # closeness\n",
    "    diff = abs(card1_val - card2_val)\n",
    "\n",
    "    if(diff >= 5):\n",
    "        total_val -= 5\n",
    "    elif(diff == 1 and max(card1_val, card2_val) < 12):\n",
    "        total_val += 1\n",
    "    elif(diff == 2):\n",
    "        total_val += 0 if(max(card1_val, card2_val) < 12) else -1\n",
    "    elif(diff == 3):\n",
    "        total_val -= 2\n",
    "    elif(diff == 4):\n",
    "        total_val -= 4        \n",
    "        \n",
    "    return total_val\n",
    "\n",
    "def adjusted_value(val):\n",
    "    return val - 4 if(val > 10) else val/2\n",
    "    \n",
    "\"\"\"\n",
    "Compares 2 hands a, b\n",
    "in form a = (card1, card2)\n",
    "\"\"\"\n",
    "def cmp(a,b):\n",
    "    return chen_formula(a) - chen_formula(b)"
   ]
  },
  {
   "cell_type": "code",
   "execution_count": 82,
   "metadata": {},
   "outputs": [],
   "source": [
    "def cmp_to_key(mycmp):\n",
    "    'Convert a cmp= function into a key= function'\n",
    "    class K:\n",
    "        def __init__(self, obj, *args):\n",
    "            self.obj = obj\n",
    "        def __lt__(self, other):\n",
    "            return mycmp(self.obj, other.obj) < 0\n",
    "        def __gt__(self, other):\n",
    "            return mycmp(self.obj, other.obj) > 0\n",
    "        def __eq__(self, other):\n",
    "            return mycmp(self.obj, other.obj) == 0\n",
    "        def __le__(self, other):\n",
    "            return mycmp(self.obj, other.obj) <= 0\n",
    "        def __ge__(self, other):\n",
    "            return mycmp(self.obj, other.obj) >= 0\n",
    "        def __ne__(self, other):\n",
    "            return mycmp(self.obj, other.obj) != 0\n",
    "    return K\n",
    "\n",
    "# sort all starting hands\n",
    "allhands = sorted(allhands, key=cmp_to_key(cmp), reverse=True)"
   ]
  },
  {
   "cell_type": "code",
   "execution_count": 117,
   "metadata": {
    "scrolled": false
   },
   "outputs": [
    {
     "data": {
      "text/plain": [
       "1.0"
      ]
     },
     "execution_count": 117,
     "metadata": {},
     "output_type": "execute_result"
    }
   ],
   "source": [
    "starting_hand = ('14 S', '14 H')\n",
    "\n",
    "def binary_search(arr, x): \n",
    "    low = 0\n",
    "    high = len(arr) - 1\n",
    "    mid = 0\n",
    "    found = False\n",
    "    while low <= high and low >= 0 and high >= 0: \n",
    "        mid = (high + low) // 2  \n",
    "        if cmp(x,arr[mid]) < 0: \n",
    "            low = mid + 1\n",
    "        elif cmp(x,arr[mid]) > 0: \n",
    "            high = mid - 1  \n",
    "        else: \n",
    "            while cmp(x,arr[mid]) == 0:\n",
    "                mid -=1\n",
    "            return mid + 1\n",
    "    \n",
    "    return -1\n",
    "\n",
    "\n",
    "def win_probability(hand):\n",
    "    return (len(allhands) - binary_search(allhands, hand))/len(allhands);\n",
    "    \n",
    "win_probability(starting_hand)"
   ]
  },
  {
   "cell_type": "code",
   "execution_count": null,
   "metadata": {},
   "outputs": [],
   "source": [
    "def who_won(hand1, hand2, table):\n",
    "    "
   ]
  }
 ],
 "metadata": {
  "kernelspec": {
   "display_name": "Python 3",
   "language": "python",
   "name": "python3"
  },
  "language_info": {
   "codemirror_mode": {
    "name": "ipython",
    "version": 3
   },
   "file_extension": ".py",
   "mimetype": "text/x-python",
   "name": "python",
   "nbconvert_exporter": "python",
   "pygments_lexer": "ipython3",
   "version": "3.8.6"
  }
 },
 "nbformat": 4,
 "nbformat_minor": 4
}
